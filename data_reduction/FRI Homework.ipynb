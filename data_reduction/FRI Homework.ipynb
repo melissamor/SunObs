{
 "cells": [
  {
   "cell_type": "markdown",
   "metadata": {},
   "source": [
    "# Playing with time series spectroscopy data!\n",
    "\n",
    "Throughout this project, we will be collecting and analyzing data from time series spectroscopy. This notebook will hopefully help you through some of the basics of how to read in our data files and how to visualize our data.\n",
    "\n",
    "Complete steps 1-3 by 4/9\n",
    "\n",
    "Complete steps 4-6 by 4/16"
   ]
  },
  {
   "cell_type": "code",
   "execution_count": 1,
   "metadata": {
    "collapsed": true
   },
   "outputs": [],
   "source": [
    "# First, let's start by importing some modules! Import numpy and pyplot below."
   ]
  },
  {
   "cell_type": "markdown",
   "metadata": {},
   "source": [
    "## Step 1: Choosing and loading a data file\n",
    "\n",
    "Look through all of the data we have and pick an observation that you would like to look through. The naming convention is such that the string of numbers after the word \"sun\" is just the date (yyymmdd). In order to help you choose a good observation date, you can refer to the Space Weather Live website and look at solar flares that may have happened on the dates these observations took place. It would be great to find a flare in our observations, but it's alright if you aren't able to! We are at a solar minimum, meaning the Sun isn't very active right now.\n",
    "\n",
    "When you have chosen a data file, go ahead and read it in below! From the file, you should save the time and date of the observations, the wavelengths at which the observations were taken, and the fluxes of each wavelength and the time at which those fluxes were recorded. It may help to view the file in a text editor so you know what the general layout is. Having trouble reading it in? Try googling different solutions or feel free to ask me!\n",
    "\n",
    "Hint: You may find it helpful to use 2 different methods to read in the data! One to read in the first two lines and one to read in the rest of the file."
   ]
  },
  {
   "cell_type": "code",
   "execution_count": null,
   "metadata": {
    "collapsed": true
   },
   "outputs": [],
   "source": [
    "# Load in data here!"
   ]
  },
  {
   "cell_type": "markdown",
   "metadata": {},
   "source": [
    "## Step 2: Plot one of the spectra\n",
    "\n",
    "The data that you have loaded are essentially a bunch of spectra! Let's go ahead and pick one of those spectra and plot them below! It may help to remember what your x and y axes should be when you're plotting a spectrum..."
   ]
  },
  {
   "cell_type": "code",
   "execution_count": 2,
   "metadata": {
    "collapsed": true
   },
   "outputs": [],
   "source": [
    "# Plot spectrum here!"
   ]
  },
  {
   "cell_type": "markdown",
   "metadata": {},
   "source": [
    "## Step 3: Plot the light curve for one wavelength\n",
    "\n",
    "We have one spectrum plotted! Great! Now, what we want to do is see how this changes over the course of this observation. First, let's start by plotting a light curve for a single wavelength.\n",
    "\n",
    "Hint: Remember that ever wavelength has its own column! This is similar to what you did during the labs!"
   ]
  },
  {
   "cell_type": "code",
   "execution_count": 3,
   "metadata": {
    "collapsed": true
   },
   "outputs": [],
   "source": [
    "# Plot light curve here!"
   ]
  },
  {
   "cell_type": "markdown",
   "metadata": {},
   "source": [
    "## Step 4: Plot the light curve for a range of wavelengths\n",
    "\n",
    "Now that you know how to plot the light curve for a single wavelength, let's see if we can do so all of the wavelengths between 390 - 400 nm. Try to make it so that changing this range is fairly simple.\n",
    "\n",
    "Hint: In order to get the total light between those two wavelengths, add the fluxes of every wavelength that fall between these two values. You should do this for every time step!\n",
    "\n",
    "Hint 2: Look into a function called numpy.where either by googling or asking me!"
   ]
  },
  {
   "cell_type": "code",
   "execution_count": null,
   "metadata": {
    "collapsed": true
   },
   "outputs": [],
   "source": [
    "# Plot light curve here!"
   ]
  },
  {
   "cell_type": "markdown",
   "metadata": {},
   "source": [
    "## Step 5: Plot the light curve for the ENTIRE SPECTRUM\n",
    "\n",
    "This should be like step 4, except you should change your wavelength bounds to something that encompasses the whole spectrum!"
   ]
  },
  {
   "cell_type": "code",
   "execution_count": null,
   "metadata": {
    "collapsed": true
   },
   "outputs": [],
   "source": [
    "# Plot ultra light curve here!"
   ]
  },
  {
   "cell_type": "markdown",
   "metadata": {},
   "source": [
    "## Step 6: Let's talk about this\n",
    "\n",
    "Describe the differences between the three light curves and why you think they may look so different! Be ready to talk about this during our next meeting!"
   ]
  },
  {
   "cell_type": "markdown",
   "metadata": {},
   "source": [
    "Describe the light curves here! (Double click this cell to edit)"
   ]
  }
 ],
 "metadata": {
  "kernelspec": {
   "display_name": "Python 2",
   "language": "python",
   "name": "python2"
  },
  "language_info": {
   "codemirror_mode": {
    "name": "ipython",
    "version": 2
   },
   "file_extension": ".py",
   "mimetype": "text/x-python",
   "name": "python",
   "nbconvert_exporter": "python",
   "pygments_lexer": "ipython2",
   "version": "2.7.14"
  }
 },
 "nbformat": 4,
 "nbformat_minor": 2
}
