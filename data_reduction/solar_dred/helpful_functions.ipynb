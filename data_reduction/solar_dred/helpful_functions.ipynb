{
 "cells": [
  {
   "cell_type": "code",
   "execution_count": 1,
   "metadata": {
    "collapsed": true
   },
   "outputs": [],
   "source": [
    "import numpy as np"
   ]
  },
  {
   "cell_type": "code",
   "execution_count": 3,
   "metadata": {
    "collapsed": true
   },
   "outputs": [],
   "source": [
    "# Extracts times, wavelengths, and fluxes from raw data files\n",
    "def get_data1(filename):\n",
    "    # Open the first file and read the first two lines\n",
    "    f = open(filename,'r')\n",
    "    line1 = f.readline()\n",
    "    f.close()\n",
    "    wlen = np.genfromtxt(filename,delimiter=',',skip_header=1,max_rows=1)\n",
    "    \n",
    "    # Pull starting time from first line & save as float\n",
    "    hour = float(line1[21:23])\n",
    "    minute = float(line1[24:26])\n",
    "    second = float(line1[27:])\n",
    "    start_time = hour + minute/60 + second/3600\n",
    "    \n",
    "    # Reads the rest of the data\n",
    "    dat = np.loadtxt(name,skiprows=2,delimiter=',')\n",
    "    \n",
    "    # Saves time and flux data\n",
    "    time = dat[:,0]/3600+start_time\n",
    "    allflux = dat[:,1:]\n",
    "    return wlen,allflux,time"
   ]
  },
  {
   "cell_type": "code",
   "execution_count": null,
   "metadata": {
    "collapsed": true
   },
   "outputs": [],
   "source": [
    "# Extracts times, wavelengths, and fluxes from raw data files\n",
    "def get_data2(filename):\n",
    "    # Open the first file and read the first two lines\n",
    "    f = open(filename,'r')\n",
    "    line1 = f.readline()\n",
    "    line2 = f.readline()\n",
    "    f.close()\n",
    "    wlen = np.genfromtxt(filename,delimiter=',',skip_header=2,max_rows=1)[1:]\n",
    "    \n",
    "    # Pull starting time from first line & save as float\n",
    "    hour = float(line1[21:23])\n",
    "    minute = float(line1[24:26])\n",
    "    second = float(line1[27:])\n",
    "    start_time = hour + minute/60 + second/3600\n",
    "    \n",
    "    # Reads the rest of the data\n",
    "    dat = np.genfromtxt(filename,skip_header=3,delimiter=',')\n",
    "    \n",
    "    # Saves time and flux data\n",
    "    time = dat[:,0]/3600+start_time\n",
    "    allflux = dat[:,1:]\n",
    "    return wlen,allflux,time"
   ]
  },
  {
   "cell_type": "code",
   "execution_count": 4,
   "metadata": {
    "collapsed": true
   },
   "outputs": [],
   "source": [
    "# Creates lightcurve from data\n",
    "def get_lightcurve(wlen,data,date='after'):\n",
    "    # BEFORE 5/7\n",
    "    if date == 'before':\n",
    "        if emission_line == 'K':\n",
    "            min_targ = 392.5\n",
    "            max_targ = 393.5\n",
    "            min_comp = 392\n",
    "            max_comp = 394\n",
    "        elif emission_line == 'H':\n",
    "            min_targ = 396.5\n",
    "            max_targ = 397\n",
    "            min_comp = 396\n",
    "            max_comp = 397.5\n",
    "\n",
    "    # AFTER 5/7\n",
    "    elif date == 'after':\n",
    "        if emission_line == 'K':\n",
    "            min_targ = 395.75\n",
    "            max_targ = 396.25\n",
    "            min_comp = 395.4\n",
    "            max_comp = 396.6\n",
    "\n",
    "        elif emission_line == 'H':\n",
    "            min_targ = 399.65\n",
    "            max_targ = 400.15\n",
    "            min_comp = 399.3\n",
    "            max_comp = 400.5\n",
    "\n",
    "    target_wavelengths = np.where((wlen > min_targ)&(wlen < max_targ))[0]\n",
    "    comparison_wavelengths = np.where(((wlen > min_comp)&(wlen < min_targ))|\n",
    "                                      ((wlen > max_targ)&(wlen < max_comp)))[0]\n",
    "    target_flux = [np.mean(i) for i in data[:,target_wavelengths]]\n",
    "    comparison_flux = [np.mean(i) for i in data[:,comparison_wavelengths]]\n",
    "    return target_flux,comparison_flux"
   ]
  },
  {
   "cell_type": "code",
   "execution_count": null,
   "metadata": {
    "collapsed": true
   },
   "outputs": [],
   "source": []
  }
 ],
 "metadata": {
  "kernelspec": {
   "display_name": "Python 2",
   "language": "python",
   "name": "python2"
  },
  "language_info": {
   "codemirror_mode": {
    "name": "ipython",
    "version": 2
   },
   "file_extension": ".py",
   "mimetype": "text/x-python",
   "name": "python",
   "nbconvert_exporter": "python",
   "pygments_lexer": "ipython2",
   "version": "2.7.13"
  }
 },
 "nbformat": 4,
 "nbformat_minor": 0
}
