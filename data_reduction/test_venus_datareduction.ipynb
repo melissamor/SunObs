{
 "cells": [
  {
   "cell_type": "code",
   "execution_count": 5,
   "metadata": {
    "collapsed": true
   },
   "outputs": [],
   "source": [
    "# Defines different wavelength limits\n",
    "if emission_line = 'K':\n",
    "    min_targ = 392.5\n",
    "    max_targ = 393.5\n",
    "    min_comp = 392\n",
    "    max_comp = 394\n",
    "\n",
    "elif emission_line = 'H':\n",
    "    min_targ = 396.5\n",
    "    max_targ = 397\n",
    "    min_comp = 396\n",
    "    max_comp = 397.5\n",
    "\n",
    "# Load data and first 2 lines\n",
    "data = np.loadtxt(filename,delimiter=',',skiprows=2)\n",
    "line2 = np.genfromtxt(filename,delimiter=',',skip_header=1,max_rows=1)\n",
    "f = open(filename,'r')\n",
    "line1 = f.readline()\n",
    "f.close()\n",
    "\n",
    "# Pull starting time from first line & save as float\n",
    "hour = float(line1[21:23])\n",
    "minute = float(line1[24:26])\n",
    "second = float(line1[27:])\n",
    "start_time = hour + minute/60 + second/3600\n",
    "\n",
    "# Pull time and relevant wavelengths from file\n",
    "time = data[:,0]/3600+start_time\n",
    "target_wavelengths = np.where((line2 > min_targ)&(line2 < max_targ))[0]\n",
    "comparison_wavelengths = np.where(((line2 > min_comp)&(line2 < min_targ))|((line2 > max_targ)&(line2 < max_comp)))[0]\n",
    "target_flux = [np.mean(i) for i in data[:,target_wavelengths]]\n",
    "comparison_flux = [np.mean(i) for i in data[:,comparison_wavelengths]]"
   ]
  },
  {
   "cell_type": "code",
   "execution_count": 1,
   "metadata": {
    "collapsed": true
   },
   "outputs": [],
   "source": [
    "import numpy as np\n",
    "import matplotlib.pyplot as plt\n",
    "from glob import glob"
   ]
  },
  {
   "cell_type": "code",
   "execution_count": 39,
   "metadata": {
    "collapsed": true
   },
   "outputs": [],
   "source": [
    "allfiles = glob('reduced_venus_data/*')\n",
    "filename = allfiles[0]"
   ]
  },
  {
   "cell_type": "code",
   "execution_count": 40,
   "metadata": {
    "collapsed": true
   },
   "outputs": [],
   "source": [
    "# Extracts data from file\n",
    "def get_lcdata(name):\n",
    "    # Open the first file and read the first two lines\n",
    "    f=open(name,'r')\n",
    "    line1 = f.readline()\n",
    "    f.close()\n",
    "    # Reads the rest of the data\n",
    "    dat = np.loadtxt(name,skiprows=2)\n",
    "    time = dat[:,0]\n",
    "    target_flux = dat[:,1]\n",
    "    comparison_flux = dat[:,2]\n",
    "    return time,target_flux,comparison_flux,line1"
   ]
  },
  {
   "cell_type": "code",
   "execution_count": 114,
   "metadata": {
    "collapsed": true
   },
   "outputs": [],
   "source": [
    "def polydivide(filename):\n",
    "    time,target_flux,comp_flux,date = get_lcdata(filename)\n",
    "\n",
    "    # Fit resulting light curve to polynomial\n",
    "    a=np.polyfit(time,target_flux,20)\n",
    "    b=np.poly1d(a)\n",
    "    # Divide light curve by fitted polynomial\n",
    "    pflux = np.divide(target_flux,b(time))\n",
    "\n",
    "    aa = np.polyfit(time,comp_flux,20)\n",
    "    bb = np.poly1d(aa)\n",
    "    cflux = np.divide(comp_flux,bb(time))\n",
    "    return time+5,pflux,cflux"
   ]
  },
  {
   "cell_type": "code",
   "execution_count": 115,
   "metadata": {
    "collapsed": false
   },
   "outputs": [
    {
     "name": "stderr",
     "output_type": "stream",
     "text": [
      "C:\\Users\\labuser\\Anaconda2\\lib\\site-packages\\ipykernel_launcher.py:5: RankWarning: Polyfit may be poorly conditioned\n",
      "  \"\"\"\n",
      "C:\\Users\\labuser\\Anaconda2\\lib\\site-packages\\ipykernel_launcher.py:10: RankWarning: Polyfit may be poorly conditioned\n",
      "  # Remove the CWD from sys.path while we load stuff.\n",
      "C:\\Users\\labuser\\Anaconda2\\lib\\site-packages\\ipykernel_launcher.py:5: RankWarning: Polyfit may be poorly conditioned\n",
      "  \"\"\"\n",
      "C:\\Users\\labuser\\Anaconda2\\lib\\site-packages\\ipykernel_launcher.py:10: RankWarning: Polyfit may be poorly conditioned\n",
      "  # Remove the CWD from sys.path while we load stuff.\n",
      "C:\\Users\\labuser\\Anaconda2\\lib\\site-packages\\ipykernel_launcher.py:5: RankWarning: Polyfit may be poorly conditioned\n",
      "  \"\"\"\n",
      "C:\\Users\\labuser\\Anaconda2\\lib\\site-packages\\ipykernel_launcher.py:10: RankWarning: Polyfit may be poorly conditioned\n",
      "  # Remove the CWD from sys.path while we load stuff.\n",
      "C:\\Users\\labuser\\Anaconda2\\lib\\site-packages\\ipykernel_launcher.py:5: RankWarning: Polyfit may be poorly conditioned\n",
      "  \"\"\"\n",
      "C:\\Users\\labuser\\Anaconda2\\lib\\site-packages\\ipykernel_launcher.py:10: RankWarning: Polyfit may be poorly conditioned\n",
      "  # Remove the CWD from sys.path while we load stuff.\n",
      "C:\\Users\\labuser\\Anaconda2\\lib\\site-packages\\ipykernel_launcher.py:5: RankWarning: Polyfit may be poorly conditioned\n",
      "  \"\"\"\n",
      "C:\\Users\\labuser\\Anaconda2\\lib\\site-packages\\ipykernel_launcher.py:10: RankWarning: Polyfit may be poorly conditioned\n",
      "  # Remove the CWD from sys.path while we load stuff.\n",
      "C:\\Users\\labuser\\Anaconda2\\lib\\site-packages\\ipykernel_launcher.py:5: RankWarning: Polyfit may be poorly conditioned\n",
      "  \"\"\"\n",
      "C:\\Users\\labuser\\Anaconda2\\lib\\site-packages\\ipykernel_launcher.py:10: RankWarning: Polyfit may be poorly conditioned\n",
      "  # Remove the CWD from sys.path while we load stuff.\n",
      "C:\\Users\\labuser\\Anaconda2\\lib\\site-packages\\ipykernel_launcher.py:5: RankWarning: Polyfit may be poorly conditioned\n",
      "  \"\"\"\n",
      "C:\\Users\\labuser\\Anaconda2\\lib\\site-packages\\ipykernel_launcher.py:10: RankWarning: Polyfit may be poorly conditioned\n",
      "  # Remove the CWD from sys.path while we load stuff.\n",
      "C:\\Users\\labuser\\Anaconda2\\lib\\site-packages\\ipykernel_launcher.py:5: RankWarning: Polyfit may be poorly conditioned\n",
      "  \"\"\"\n",
      "C:\\Users\\labuser\\Anaconda2\\lib\\site-packages\\ipykernel_launcher.py:10: RankWarning: Polyfit may be poorly conditioned\n",
      "  # Remove the CWD from sys.path while we load stuff.\n",
      "C:\\Users\\labuser\\Anaconda2\\lib\\site-packages\\ipykernel_launcher.py:5: RankWarning: Polyfit may be poorly conditioned\n",
      "  \"\"\"\n",
      "C:\\Users\\labuser\\Anaconda2\\lib\\site-packages\\ipykernel_launcher.py:10: RankWarning: Polyfit may be poorly conditioned\n",
      "  # Remove the CWD from sys.path while we load stuff.\n",
      "C:\\Users\\labuser\\Anaconda2\\lib\\site-packages\\ipykernel_launcher.py:5: RankWarning: Polyfit may be poorly conditioned\n",
      "  \"\"\"\n",
      "C:\\Users\\labuser\\Anaconda2\\lib\\site-packages\\ipykernel_launcher.py:10: RankWarning: Polyfit may be poorly conditioned\n",
      "  # Remove the CWD from sys.path while we load stuff.\n",
      "C:\\Users\\labuser\\Anaconda2\\lib\\site-packages\\ipykernel_launcher.py:5: RankWarning: Polyfit may be poorly conditioned\n",
      "  \"\"\"\n",
      "C:\\Users\\labuser\\Anaconda2\\lib\\site-packages\\ipykernel_launcher.py:10: RankWarning: Polyfit may be poorly conditioned\n",
      "  # Remove the CWD from sys.path while we load stuff.\n",
      "C:\\Users\\labuser\\Anaconda2\\lib\\site-packages\\ipykernel_launcher.py:5: RankWarning: Polyfit may be poorly conditioned\n",
      "  \"\"\"\n",
      "C:\\Users\\labuser\\Anaconda2\\lib\\site-packages\\ipykernel_launcher.py:10: RankWarning: Polyfit may be poorly conditioned\n",
      "  # Remove the CWD from sys.path while we load stuff.\n",
      "C:\\Users\\labuser\\Anaconda2\\lib\\site-packages\\ipykernel_launcher.py:5: RankWarning: Polyfit may be poorly conditioned\n",
      "  \"\"\"\n",
      "C:\\Users\\labuser\\Anaconda2\\lib\\site-packages\\ipykernel_launcher.py:10: RankWarning: Polyfit may be poorly conditioned\n",
      "  # Remove the CWD from sys.path while we load stuff.\n"
     ]
    }
   ],
   "source": [
    "everythang = []\n",
    "\n",
    "for i in allfiles:\n",
    "    everythang.append(polydivide(i))"
   ]
  },
  {
   "cell_type": "code",
   "execution_count": 116,
   "metadata": {
    "collapsed": false
   },
   "outputs": [
    {
     "data": {
      "image/png": "[encoded data removed]",
      "text/plain": [
       "<matplotlib.figure.Figure at 0x13715518>"
      ]
     },
     "metadata": {},
     "output_type": "display_data"
    },
    {
     "name": "stdout",
     "output_type": "stream",
     "text": [
      "0: reduced_venus_data\\rvenusK_20180404_1.dat\n",
      "1: reduced_venus_data\\rvenusK_20180404_2.dat\n",
      "2: reduced_venus_data\\rvenusK_20180410_1.dat\n",
      "3: reduced_venus_data\\rvenusK_20180418_1.dat\n",
      "4: reduced_venus_data\\rvenusK_20180418_2.dat\n",
      "5: reduced_venus_data\\rvenusK_20180423_1.dat\n",
      "6: reduced_venus_data\\rvenusK_20180423_2.dat\n",
      "7: reduced_venus_data\\rvenusK_20180423_3.dat\n",
      "8: reduced_venus_data\\rvenusK_20180423_4.dat\n",
      "9: reduced_venus_data\\rvenusK_20180424_1.dat\n",
      "10: reduced_venus_data\\rvenusK_20180426_1.dat\n",
      "11: reduced_venus_data\\rvenusK_20180426_2.dat\n",
      "12: reduced_venus_data\\rvenusK_20180426_3.dat\n"
     ]
    }
   ],
   "source": [
    "for i in everythang:\n",
    "    plt.plot(i[0],i[1])\n",
    "    plt.plot(i[0],i[2])\n",
    "\n",
    "plt.show()\n",
    "\n",
    "for i in range(len(allfiles)):\n",
    "    print str(i)+': '+str(allfiles[i])"
   ]
  },
  {
   "cell_type": "code",
   "execution_count": 117,
   "metadata": {
    "collapsed": false
   },
   "outputs": [
    {
     "data": {
      "image/png": "[encoded data removed]",
      "text/plain": [
       "<matplotlib.figure.Figure at 0x103e6780>"
      ]
     },
     "metadata": {},
     "output_type": "display_data"
    }
   ],
   "source": [
    "plt.plot(everythang[0][0],np.divide(everythang[0][1],everythang[0][2]),'firebrick',alpha=.8)\n",
    "plt.plot(everythang[1][0],np.divide(everythang[1][1],everythang[1][2]),'firebrick',alpha=.8)\n",
    "plt.plot(everythang[2][0],np.divide(everythang[2][1],everythang[2][2]),alpha=.8)\n",
    "#plt.plot(everythang[3][0],np.divide(everythang[3][1],everythang[3][2]),'orange',alpha=.8)\n",
    "#plt.plot(everythang[4][0],np.divide(everythang[4][1],everythang[4][2]),'orange',alpha=.8)\n",
    "plt.plot(everythang[5][0],np.divide(everythang[5][1],everythang[5][2]),'rebeccapurple',alpha=.8)\n",
    "plt.plot(everythang[6][0],np.divide(everythang[6][1],everythang[6][2]),'rebeccapurple',alpha=.8)\n",
    "plt.plot(everythang[7][0],np.divide(everythang[7][1],everythang[7][2]),'rebeccapurple',alpha=.8)\n",
    "plt.plot(everythang[8][0],np.divide(everythang[8][1],everythang[8][2]),'rebeccapurple',alpha=.8)\n",
    "#plt.plot(everythang[9][0],np.divide(everythang[9][1],everythang[9][2]),alpha=.8)\n",
    "#plt.plot(everythang[10][0],np.divide(everythang[10][1],everythang[10][2]),'teal',alpha=.8)\n",
    "#plt.plot(everythang[11][0],np.divide(everythang[11][1],everythang[11][2]),'teal',alpha=.8)\n",
    "#plt.plot(everythang[12][0],np.divide(everythang[12][1],everythang[12][2]),'teal',alpha=.8)\n",
    "\n",
    "plt.show()"
   ]
  },
  {
   "cell_type": "code",
   "execution_count": 83,
   "metadata": {
    "collapsed": false
   },
   "outputs": [
    {
     "name": "stdout",
     "output_type": "stream",
     "text": [
      "13\n"
     ]
    },
    {
     "data": {
      "text/plain": [
       "'\\nOBESRVING NOTES\\n\\nWeather notes:\\nclear days (from logs)\\n    4/23: baby flare @ 18:42\\n    4/26: not a thing (small rise in overall intensity @ 18:00, but no flare)\\n    \\ncloudy days (from logs)\\n    4/24: some variation, but caught no flares\\n\\nother days (no logs)\\n    4/04: weird decrease in intensity @ 20:30?\\n    4/10: nothing\\n    4/18: weird variations?\\n\\n'"
      ]
     },
     "execution_count": 83,
     "metadata": {},
     "output_type": "execute_result"
    }
   ],
   "source": [
    "'''\n",
    "OBESRVING NOTES\n",
    "\n",
    "Weather notes:\n",
    "clear days (from logs)\n",
    "    4/23: baby flare @ 18:42\n",
    "    4/26: not a thing (small rise in overall intensity @ 18:00, but no flare)\n",
    "    \n",
    "cloudy days (from logs)\n",
    "    4/24: some variation, but caught no flares\n",
    "\n",
    "other days (no logs)\n",
    "    4/04: weird decrease in intensity @ 20:30?\n",
    "    4/10: nothing\n",
    "    4/18: weird variations?\n",
    "\n",
    "'''"
   ]
  },
  {
   "cell_type": "code",
   "execution_count": null,
   "metadata": {
    "collapsed": true
   },
   "outputs": [],
   "source": []
  }
 ],
 "metadata": {
  "kernelspec": {
   "display_name": "Python 2",
   "language": "python",
   "name": "python2"
  },
  "language_info": {
   "codemirror_mode": {
    "name": "ipython",
    "version": 2
   },
   "file_extension": ".py",
   "mimetype": "text/x-python",
   "name": "python",
   "nbconvert_exporter": "python",
   "pygments_lexer": "ipython2",
   "version": "2.7.13"
  }
 },
 "nbformat": 4,
 "nbformat_minor": 2
}
